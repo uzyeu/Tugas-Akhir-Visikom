{
  "nbformat": 4,
  "nbformat_minor": 0,
  "metadata": {
    "colab": {
      "provenance": []
    },
    "kernelspec": {
      "name": "python3",
      "display_name": "Python 3"
    },
    "language_info": {
      "name": "python"
    }
  },
  "cells": [
    {
      "cell_type": "code",
      "execution_count": 6,
      "metadata": {
        "colab": {
          "base_uri": "https://localhost:8080/"
        },
        "id": "b5nrzxOvwrEA",
        "outputId": "20aba2a7-1059-4aab-816f-afd46e2528d7"
      },
      "outputs": [
        {
          "output_type": "stream",
          "name": "stdout",
          "text": [
            "Extracted /content/kdkd.zip to /content/extracted\n"
          ]
        }
      ],
      "source": [
        "import os\n",
        "import zipfile\n",
        "\n",
        "# Path to the downloaded dataset\n",
        "path_to_dataset = \"/content/kdkd.zip\"\n",
        "\n",
        "# Since path_to_dataset is a zip file, it doesn't contain other zip files within it\n",
        "# We'll directly extract this zip file\n",
        "extract_to = os.path.join(os.path.dirname(path_to_dataset), \"extracted\")\n",
        "\n",
        "# Create a directory for extraction if it doesn't exist\n",
        "os.makedirs(extract_to, exist_ok=True)\n",
        "\n",
        "# Extract the zip file\n",
        "with zipfile.ZipFile(path_to_dataset, 'r') as zip_ref:\n",
        "    zip_ref.extractall(extract_to)\n",
        "\n",
        "print(f\"Extracted {path_to_dataset} to {extract_to}\")"
      ]
    },
    {
      "cell_type": "code",
      "source": [
        "import os\n",
        "print(os.path.exists(\"/content/kdkd.zip\"))\n"
      ],
      "metadata": {
        "colab": {
          "base_uri": "https://localhost:8080/"
        },
        "id": "eKILbl-nxtSq",
        "outputId": "733a62b4-1b57-4ae8-85c9-72d47a74c504"
      },
      "execution_count": 7,
      "outputs": [
        {
          "output_type": "stream",
          "name": "stdout",
          "text": [
            "True\n"
          ]
        }
      ]
    },
    {
      "cell_type": "code",
      "source": [
        "import os\n",
        "import random\n",
        "import numpy as np\n",
        "from PIL import Image, ImageOps, ImageEnhance\n",
        "import cv2\n"
      ],
      "metadata": {
        "id": "ymCEpm-Ix0Np"
      },
      "execution_count": 8,
      "outputs": []
    },
    {
      "cell_type": "code",
      "source": [
        "## Augmentasi dulu"
      ],
      "metadata": {
        "id": "N8pfqdmK2d_C"
      },
      "execution_count": 93,
      "outputs": []
    },
    {
      "cell_type": "code",
      "source": [
        "def flip_horizontal(image):\n",
        "    if random.random() > 0.5:  # 50% probability\n",
        "        return ImageOps.mirror(image)\n",
        "    return image\n"
      ],
      "metadata": {
        "id": "dnMMrOuGx1rs"
      },
      "execution_count": 9,
      "outputs": []
    },
    {
      "cell_type": "code",
      "source": [
        "def rotate(image):\n",
        "    if random.random() > 0.5:  # 50% probability\n",
        "        angle = random.uniform(-30, 30)  # Rotate within +/- 30 degrees\n",
        "        return image.rotate(angle)\n",
        "    return image\n"
      ],
      "metadata": {
        "id": "Y-1Wnpfax3zl"
      },
      "execution_count": 10,
      "outputs": []
    },
    {
      "cell_type": "code",
      "source": [
        "def scale(image):\n",
        "    scale_factor = random.uniform(0.8, 1.2)  # Scale up/down by 20%\n",
        "    w, h = image.size\n",
        "    new_size = (int(w * scale_factor), int(h * scale_factor))\n",
        "    # Use Image.Resampling.LANCZOS instead of Image.ANTIALIAS\n",
        "    image = image.resize(new_size, Image.Resampling.LANCZOS)\n",
        "    return image.crop((0, 0, w, h))  # Crop back to original size\n"
      ],
      "metadata": {
        "id": "O8V_LjFox5PV"
      },
      "execution_count": 11,
      "outputs": []
    },
    {
      "cell_type": "code",
      "source": [
        "def translate(image):\n",
        "    max_translate = 0.1  # 10% of the image size\n",
        "    w, h = image.size\n",
        "    x_translate = int(random.uniform(-max_translate, max_translate) * w)\n",
        "    y_translate = int(random.uniform(-max_translate, max_translate) * h)\n",
        "    return Image.fromarray(np.roll(np.roll(np.array(image), x_translate, axis=1), y_translate, axis=0))\n"
      ],
      "metadata": {
        "id": "KByN9MQNx62Y"
      },
      "execution_count": 12,
      "outputs": []
    },
    {
      "cell_type": "code",
      "source": [
        "def blur(image):\n",
        "    if random.random() > 0.8:  # 20% probability\n",
        "        img_array = np.array(image)\n",
        "        blur_strength = random.randint(1, 3)  # Max blur strength: 3 pixels\n",
        "        img_array = cv2.GaussianBlur(img_array, (2 * blur_strength + 1, 2 * blur_strength + 1), 0)\n",
        "        return Image.fromarray(img_array)\n",
        "    return image\n"
      ],
      "metadata": {
        "id": "xTqACPQWx-Rn"
      },
      "execution_count": 13,
      "outputs": []
    },
    {
      "cell_type": "code",
      "source": [
        "def resize(image):\n",
        "    # Use Image.Resampling.LANCZOS instead of Image.ANTIALIAS\n",
        "    return image.resize((100, 100), Image.Resampling.LANCZOS)"
      ],
      "metadata": {
        "id": "S0xQPpw7x_hU"
      },
      "execution_count": 14,
      "outputs": []
    },
    {
      "cell_type": "code",
      "source": [
        "def add_gaussian_noise(image):\n",
        "    img_array = np.array(image)\n",
        "    mean = 0\n",
        "    sigma = random.uniform(0.01, 0.05) * 255\n",
        "    noise = np.random.normal(mean, sigma, img_array.shape).astype('uint8')\n",
        "    noisy_img = cv2.add(img_array, noise)\n",
        "    return Image.fromarray(np.clip(noisy_img, 0, 255))\n"
      ],
      "metadata": {
        "id": "ZX2j3GLIyA07"
      },
      "execution_count": 15,
      "outputs": []
    },
    {
      "cell_type": "code",
      "source": [
        "def adjust_brightness(image):\n",
        "    enhancer = ImageEnhance.Brightness(image)\n",
        "    factor = random.uniform(0.8, 1.2)  # Random brightness factor\n",
        "    return enhancer.enhance(factor)"
      ],
      "metadata": {
        "id": "DgbU7lWByCIk"
      },
      "execution_count": 16,
      "outputs": []
    },
    {
      "cell_type": "code",
      "source": [
        "def adjust_contrast(image):\n",
        "    enhancer = ImageEnhance.Contrast(image)\n",
        "    factor = random.uniform(0.8, 1.2)  # Random contrast factor\n",
        "    return enhancer.enhance(factor)"
      ],
      "metadata": {
        "id": "PaWz50c4yDWK"
      },
      "execution_count": 17,
      "outputs": []
    },
    {
      "cell_type": "code",
      "source": [
        "def adjust_sharpness(image):\n",
        "    enhancer = ImageEnhance.Sharpness(image)\n",
        "    factor = random.uniform(0.8, 2.0)  # Random sharpness factor\n",
        "    return enhancer.enhance(factor)"
      ],
      "metadata": {
        "id": "rUQEVHx1yEkA"
      },
      "execution_count": 18,
      "outputs": []
    },
    {
      "cell_type": "code",
      "source": [
        "def adjust_color(image):\n",
        "    enhancer = ImageEnhance.Color(image)\n",
        "    factor = random.uniform(0.8, 1.5)  # Random color factor\n",
        "    return enhancer.enhance(factor)"
      ],
      "metadata": {
        "id": "ZLAmucc-yFrf"
      },
      "execution_count": 19,
      "outputs": []
    },
    {
      "cell_type": "code",
      "source": [
        "def crop_image(image):\n",
        "    w, h = image.size\n",
        "    crop_factor = random.uniform(0.9, 1.0)  # Crop up to 10% of the image\n",
        "    left = random.uniform(0, w * (1 - crop_factor))\n",
        "    top = random.uniform(0, h * (1 - crop_factor))\n",
        "    right = left + crop_factor * w\n",
        "    bottom = top + crop_factor * h\n",
        "    return image.crop((left, top, right, bottom)).resize((w, h), Image.Resampling.LANCZOS)\n"
      ],
      "metadata": {
        "id": "TAPqxGFryGwY"
      },
      "execution_count": 20,
      "outputs": []
    },
    {
      "cell_type": "code",
      "source": [
        "import os\n",
        "import shutil\n",
        "from PIL import Image\n",
        "\n",
        "# Path to the dataset\n",
        "original_dataset_path = \"/content/extracted/Citra BISINDO\"\n",
        "augment_dataset_path = \"/content/augmented/Citra BISINDO\"\n",
        "\n",
        "# Create the augmentasi directory if it doesn't exist\n",
        "os.makedirs(augment_dataset_path, exist_ok=True)\n",
        "\n",
        "# List of augmentation functions\n",
        "augmentation_functions = [\n",
        "    flip_horizontal,\n",
        "    rotate,\n",
        "    scale,\n",
        "    translate,\n",
        "    blur,\n",
        "    resize,\n",
        "    add_gaussian_noise,\n",
        "    adjust_brightness,\n",
        "    adjust_contrast,\n",
        "    adjust_sharpness,\n",
        "    adjust_color,\n",
        "    crop_image\n",
        "]\n",
        "\n",
        "# Iterate through each folder (A-Z)\n",
        "for folder in sorted(os.listdir(original_dataset_path)):\n",
        "    folder_path = os.path.join(original_dataset_path, folder)\n",
        "    if os.path.isdir(folder_path):\n",
        "        augment_folder_path = os.path.join(augment_dataset_path, folder)\n",
        "        os.makedirs(augment_folder_path, exist_ok=True)\n",
        "\n",
        "        # Iterate through each file in the folder\n",
        "        for file_name in os.listdir(folder_path):\n",
        "            file_path = os.path.join(folder_path, file_name)\n",
        "            if file_name.lower().endswith(('png', 'jpg', 'jpeg', 'bmp', 'tiff')):\n",
        "                try:\n",
        "                    # Open the image\n",
        "                    original_image = Image.open(file_path).convert(\"RGB\")\n",
        "\n",
        "                    # Save the original image to the augmented folder\n",
        "                    original_image.save(os.path.join(augment_folder_path, file_name))\n",
        "\n",
        "                    # Apply each augmentation function once\n",
        "                    for func in augmentation_functions:\n",
        "                        augmented_image = func(original_image)\n",
        "\n",
        "                        # Save the augmented image\n",
        "                        new_file_name = f\"{os.path.splitext(file_name)[0]}_{func.__name__}{os.path.splitext(file_name)[1]}\"\n",
        "                        augmented_image.save(os.path.join(augment_folder_path, new_file_name))\n",
        "                except Exception as e:\n",
        "                    print(f\"Error processing file {file_name}: {e}\")\n",
        "\n",
        "print(\"Augmentation completed and saved in:\", augment_dataset_path)\n"
      ],
      "metadata": {
        "colab": {
          "base_uri": "https://localhost:8080/"
        },
        "id": "w8KtqFvByHxQ",
        "outputId": "59e625f3-43f6-49ea-bc5f-f94619210f08"
      },
      "execution_count": 35,
      "outputs": [
        {
          "output_type": "stream",
          "name": "stdout",
          "text": [
            "Augmentation completed and saved in: /content/augmented/Citra BISINDO\n"
          ]
        }
      ]
    },
    {
      "cell_type": "code",
      "source": [
        "\n",
        "\n",
        "import os\n",
        "\n",
        "def count_images_per_folder(root_dir):\n",
        "  \"\"\"Counts the number of images in each subfolder of the root directory.\n",
        "\n",
        "  Args:\n",
        "    root_dir: The path to the root directory.\n",
        "\n",
        "  Returns:\n",
        "    A dictionary where keys are folder names and values are the number of images\n",
        "    in each folder.\n",
        "  \"\"\"\n",
        "\n",
        "  image_counts = {}\n",
        "  for folder_name in os.listdir(root_dir):\n",
        "    folder_path = os.path.join(root_dir, folder_name)\n",
        "    if os.path.isdir(folder_path):\n",
        "      image_count = 0\n",
        "      for filename in os.listdir(folder_path):\n",
        "        if filename.lower().endswith(('.png', '.jpg', '.jpeg', '.gif', '.bmp')):\n",
        "          image_count += 1\n",
        "      image_counts[folder_name] = image_count\n",
        "  return image_counts\n",
        "\n",
        "# Example usage:\n",
        "image_counts = count_images_per_folder(\"/content/augmented/Citra BISINDO\")\n",
        "for folder, count in image_counts.items():\n",
        "  print(f\"Folder: {folder}, Image Count: {count}\")"
      ],
      "metadata": {
        "colab": {
          "base_uri": "https://localhost:8080/"
        },
        "id": "Wq9xl73f0st0",
        "outputId": "c2f7133a-05a4-4302-84db-9eb23514226c"
      },
      "execution_count": 94,
      "outputs": [
        {
          "output_type": "stream",
          "name": "stdout",
          "text": [
            "Folder: X, Image Count: 156\n",
            "Folder: D, Image Count: 156\n",
            "Folder: Y, Image Count: 156\n",
            "Folder: Q, Image Count: 156\n",
            "Folder: K, Image Count: 156\n",
            "Folder: U, Image Count: 156\n",
            "Folder: R, Image Count: 156\n",
            "Folder: S, Image Count: 156\n",
            "Folder: P, Image Count: 156\n",
            "Folder: E, Image Count: 156\n",
            "Folder: I, Image Count: 156\n",
            "Folder: T, Image Count: 156\n",
            "Folder: L, Image Count: 156\n",
            "Folder: A, Image Count: 156\n",
            "Folder: M, Image Count: 156\n",
            "Folder: O, Image Count: 156\n",
            "Folder: F, Image Count: 156\n",
            "Folder: W, Image Count: 156\n",
            "Folder: G, Image Count: 156\n",
            "Folder: C, Image Count: 156\n",
            "Folder: B, Image Count: 156\n",
            "Folder: H, Image Count: 156\n",
            "Folder: V, Image Count: 156\n",
            "Folder: J, Image Count: 156\n",
            "Folder: Z, Image Count: 156\n",
            "Folder: N, Image Count: 156\n"
          ]
        }
      ]
    },
    {
      "cell_type": "code",
      "source": [
        "\n",
        "\n",
        "import shutil\n",
        "import os\n",
        "\n",
        "def zip_folder(folder_path, zip_file_name):\n",
        "    \"\"\"Zips the specified folder.\n",
        "\n",
        "    Args:\n",
        "        folder_path: The path to the folder to zip.\n",
        "        zip_file_name: The name of the zip file to create.\n",
        "    \"\"\"\n",
        "    try:\n",
        "        shutil.make_archive(zip_file_name, 'zip', folder_path)\n",
        "        print(f\"Successfully zipped '{folder_path}' to '{zip_file_name}.zip'\")\n",
        "    except FileNotFoundError:\n",
        "        print(f\"Error: Folder '{folder_path}' not found.\")\n",
        "    except Exception as e:\n",
        "        print(f\"An error occurred: {e}\")\n",
        "\n",
        "# Example usage:\n",
        "folder_to_zip = \"/content/augmented/Citra BISINDO\"\n",
        "zip_file_name = \"/content/Citra_BISIND(Augmented)\"  # Specify the desired output zip file name without extension\n",
        "\n",
        "zip_folder(folder_to_zip, zip_file_name)"
      ],
      "metadata": {
        "colab": {
          "base_uri": "https://localhost:8080/"
        },
        "id": "Gfun9kyx03Na",
        "outputId": "09943fc8-dcc4-4c2c-93d1-af395f9717b9"
      },
      "execution_count": 95,
      "outputs": [
        {
          "output_type": "stream",
          "name": "stdout",
          "text": [
            "Successfully zipped '/content/augmented/Citra BISINDO' to '/content/Citra_BISIND(Augmented).zip'\n"
          ]
        }
      ]
    }
  ]
}